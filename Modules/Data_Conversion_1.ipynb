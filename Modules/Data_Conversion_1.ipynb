{
 "cells": [
  {
   "cell_type": "code",
   "execution_count": 1,
   "id": "51223913",
   "metadata": {},
   "outputs": [],
   "source": [
    "#data conversion\n",
    "def matrix2vector(data_mat):\n",
    "    size = data_mat.shape \n",
    "    data_vector = data_mat.reshape(size[0],size[1]*size[2])\n",
    "    return data_vector\n",
    "\n",
    "def get_vec_dataset(data_train,label_train, data_val,label_val):\n",
    "    vec_train=[]\n",
    "    vec_val=[]\n",
    "    vec_test=[]\n",
    "    \n",
    "    features = matrix2vector(data_train)\n",
    "    label = label_train.reshape(features.shape[0])\n",
    "    vec_train = [features, label]\n",
    "    \n",
    "    features = matrix2vector(data_val)\n",
    "    label = label_val.reshape(features.shape[0])\n",
    "    vec_val=[features, label]\n",
    "    \n",
    "    return vec_train, vec_val\n",
    "\n",
    "def get_vec_eval(data_test,label_test):\n",
    "    features = matrix2vector(data_test)\n",
    "    label = label_test.reshape(len(features))\n",
    "    vec_test=[features, label]\n",
    "    return vec_test\n",
    "\n",
    "def get_total_data(k,tt_data,tt_targets,tv_data,tv_targets):\n",
    "    t_vec_train=[]\n",
    "    t_vec_val =[]\n",
    "    for i in range(k):\n",
    "        vec_train, vec_val=  get_vec_dataset(tt_data[i],tt_targets[i],tv_data[i],tv_targets[i])\n",
    "        t_vec_train.append(vec_train)\n",
    "        t_vec_val.append(vec_val)\n",
    "    return t_vec_train, t_vec_val\n",
    "\n",
    "def get_vec_data(coll_vec,coll_label,k):\n",
    "    vec_data =[]\n",
    "    t_vec =[]\n",
    "    for i in range(k):\n",
    "        vec_data = coll_vec[i], coll_label[i].reshape(coll_label[i].shape[0])\n",
    "        t_vec.append(vec_data)\n",
    "    return t_vec"
   ]
  },
  {
   "cell_type": "code",
   "execution_count": null,
   "id": "547c572e",
   "metadata": {},
   "outputs": [],
   "source": []
  }
 ],
 "metadata": {
  "kernelspec": {
   "display_name": "Python 3 (ipykernel)",
   "language": "python",
   "name": "python3"
  },
  "language_info": {
   "codemirror_mode": {
    "name": "ipython",
    "version": 3
   },
   "file_extension": ".py",
   "mimetype": "text/x-python",
   "name": "python",
   "nbconvert_exporter": "python",
   "pygments_lexer": "ipython3",
   "version": "3.8.10"
  }
 },
 "nbformat": 4,
 "nbformat_minor": 5
}
