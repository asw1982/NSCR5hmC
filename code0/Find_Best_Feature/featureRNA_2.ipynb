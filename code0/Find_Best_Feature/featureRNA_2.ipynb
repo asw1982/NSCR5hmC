{
 "cells": [
  {
   "cell_type": "code",
   "execution_count": 7,
   "id": "0d463b50",
   "metadata": {},
   "outputs": [],
   "source": [
    "from ilearnplus import runiLearnPlus\n",
    "import numpy as np\n",
    "from sklearn.utils import shuffle"
   ]
  },
  {
   "cell_type": "code",
   "execution_count": 8,
   "id": "6fd7f7a5",
   "metadata": {},
   "outputs": [],
   "source": [
    "def open_RNAfile(strPath):\n",
    "    seqs = []\n",
    "    labels = []\n",
    "\n",
    "    f = open(strPath)\n",
    "    for line in f:\n",
    "        if not '>' in line :\n",
    "            line = [i.replace('\\n', '') for i in line.split()]\n",
    "            seqs.append(line)\n",
    "    f.close()\n",
    "    return seqs"
   ]
  },
  {
   "cell_type": "code",
   "execution_count": 9,
   "id": "f90fb792",
   "metadata": {},
   "outputs": [],
   "source": [
    "data_neg =open_RNAfile('./Newdata/negative.txt')\n",
    "data_pos =open_RNAfile('./Newdata/positive.txt')"
   ]
  },
  {
   "cell_type": "code",
   "execution_count": 10,
   "id": "90511ce0",
   "metadata": {},
   "outputs": [
    {
     "data": {
      "text/plain": [
       "1738"
      ]
     },
     "execution_count": 10,
     "metadata": {},
     "output_type": "execute_result"
    }
   ],
   "source": [
    "total_label=[]\n",
    "label_neg = np.zeros(len(data_neg))\n",
    "label_pos = np.ones(len(data_pos))\n",
    "total_label = np.concatenate((label_neg,label_pos),axis =0)\n",
    "len(total_label)"
   ]
  },
  {
   "cell_type": "code",
   "execution_count": 11,
   "id": "f293b0ae",
   "metadata": {},
   "outputs": [],
   "source": [
    "l_neg = int(len(data_neg)*0.2)\n",
    "l_pos = int(len(data_pos)*0.2)\n",
    "        #it is used for validation \n",
    "X_test_neg = data_neg[0:l_neg]\n",
    "y_test_neg = label_neg[0:l_neg]\n",
    "X_test_pos = data_pos[0:l_pos]\n",
    "y_test_pos = label_pos[0:l_pos]\n",
    "\n",
    "tr_data_neg = data_neg[l_neg:len(data_neg)]\n",
    "tr_label_neg =label_neg[l_neg:len(label_neg)]\n",
    "\n",
    "tr_data_pos = data_pos[l_pos:len(data_pos)]\n",
    "tr_label_pos =label_pos[l_pos:len(label_pos)]\n"
   ]
  },
  {
   "cell_type": "code",
   "execution_count": 12,
   "id": "6b528e12",
   "metadata": {},
   "outputs": [],
   "source": [
    "with open('myrnaseqs_1.txt', 'w') as f:\n",
    "    # create data training\n",
    "    for i in range (len(tr_data_neg)):\n",
    "        f.write(\">Fragment-\"+str(i)+\"|0|\"+\"training\"+\"\\n\"+ tr_data_neg[i][0]+\"\\n\")\n",
    "    for i in range (len(tr_data_pos)):\n",
    "        f.write(\">Fragment-\"+str(i+len(tr_data_neg))+\"|1|\"+\"training\"+\"\\n\"+ tr_data_pos[i][0]+\"\\n\")\n",
    "    # create data testing\n",
    "    for i in range (len(X_test_neg)):\n",
    "        f.write(\">Fragment-\"+str(i+len(tr_data_neg)+len(tr_data_pos))+\"|0|\"+\"testing\"+\"\\n\"+ X_test_neg[i][0]+\"\\n\")  \n",
    "    for i in range (len(X_test_pos)):\n",
    "        f.write(\">Fragment-\"+str(i+len(tr_data_neg)+len(tr_data_pos)+len(X_test_neg))+\"|1|\"+\"testing\"+\"\\n\"+ X_test_pos[i][0]+\"\\n\")"
   ]
  },
  {
   "cell_type": "code",
   "execution_count": null,
   "id": "49433fa8",
   "metadata": {},
   "outputs": [],
   "source": [
    "with open('mytraining.txt', 'w') as f:\n",
    "    # create data training\n",
    "    for i in range (len(tr_data_neg)):\n",
    "        f.write(\">Fragment-\"+str(i)+\"|0|\"+\"training\"+\"\\n\"+ tr_data_neg[i][0]+\"\\n\")\n",
    "    for i in range (len(tr_data_pos)):\n",
    "        f.write(\">Fragment-\"+str(i+len(tr_data_neg))+\"|1|\"+\"training\"+\"\\n\"+ tr_data_pos[i][0]+\"\\n\")\n",
    "    f.close\n",
    "with open('mytesting.txt', 'w') as f:\n",
    "        # create data testing\n",
    "    for i in range (len(X_test_neg)):\n",
    "        f.write(\">Fragment-\"+str(i)+\"|0|\"+\"testing\"+\"\\n\"+ X_test_neg[i][0]+\"\\n\")\n",
    "    for i in range (len(X_test_pos)):\n",
    "        f.write(\">Fragment-\"+str(i+len(X_test_neg))+\"|1|\"+\"testing\"+\"\\n\"+ X_test_pos[i][0]+\"\\n\")\n",
    "    f.close"
   ]
  },
  {
   "cell_type": "code",
   "execution_count": null,
   "id": "2c0b38a6",
   "metadata": {},
   "outputs": [],
   "source": [
    "runiLearnPlus()"
   ]
  },
  {
   "cell_type": "code",
   "execution_count": null,
   "id": "17d7ec8d",
   "metadata": {},
   "outputs": [],
   "source": []
  },
  {
   "cell_type": "code",
   "execution_count": null,
   "id": "c571e950",
   "metadata": {},
   "outputs": [],
   "source": []
  }
 ],
 "metadata": {
  "kernelspec": {
   "display_name": "Python 3 (ipykernel)",
   "language": "python",
   "name": "python3"
  },
  "language_info": {
   "codemirror_mode": {
    "name": "ipython",
    "version": 3
   },
   "file_extension": ".py",
   "mimetype": "text/x-python",
   "name": "python",
   "nbconvert_exporter": "python",
   "pygments_lexer": "ipython3",
   "version": "3.8.10"
  }
 },
 "nbformat": 4,
 "nbformat_minor": 5
}
