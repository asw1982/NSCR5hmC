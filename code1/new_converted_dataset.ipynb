{
 "cells": [
  {
   "cell_type": "code",
   "execution_count": 2,
   "id": "37c35e06",
   "metadata": {},
   "outputs": [],
   "source": [
    "from ilearnplus import runiLearnPlus\n",
    "import numpy as np\n",
    "from sklearn.utils import shuffle# truncate the data sequences from 76 to 41 "
   ]
  },
  {
   "cell_type": "code",
   "execution_count": 3,
   "id": "986497fb",
   "metadata": {},
   "outputs": [],
   "source": [
    "# truncate the dataset \n",
    "def open_RNAfile(strPath):\n",
    "    seqs = []\n",
    "    labels = []\n",
    "\n",
    "    f = open(strPath)\n",
    "    for line in f:\n",
    "        if not '>' in line :\n",
    "            line = [i.replace('\\n', '') for i in line.split()]\n",
    "            seqs.append(line)\n",
    "    f.close()\n",
    "    return seqs"
   ]
  },
  {
   "cell_type": "code",
   "execution_count": 4,
   "id": "9c4fdbd0",
   "metadata": {},
   "outputs": [],
   "source": [
    "data_neg =open_RNAfile('negative.txt')\n",
    "data_pos =open_RNAfile('positive.txt')"
   ]
  },
  {
   "cell_type": "code",
   "execution_count": 5,
   "id": "b95a856f",
   "metadata": {},
   "outputs": [
    {
     "name": "stdout",
     "output_type": "stream",
     "text": [
      "number of A pos:14210\n",
      "number of G pos:18970\n",
      "number of C pos:19660\n",
      "number of U pos:13204\n"
     ]
    }
   ],
   "source": [
    "counter =0\n",
    "for i in range(len(data_pos)):\n",
    "    for char in data_pos[i][0]:\n",
    "        if char =='A':\n",
    "            counter = counter +1\n",
    "            \n",
    "print(f'number of A pos:{counter}')\n",
    "\n",
    "\n",
    "counter =0\n",
    "for i in range(len(data_pos)):\n",
    "    for char in data_pos[i][0]:\n",
    "        if char =='G':\n",
    "            counter = counter +1\n",
    "            \n",
    "print(f'number of G pos:{counter}')\n",
    "\n",
    "counter =0\n",
    "for i in range(len(data_pos)):\n",
    "    for char in data_pos[i][0]:\n",
    "        if char =='C':\n",
    "            counter = counter +1\n",
    "            \n",
    "print(f'number of C pos:{counter}')\n",
    "\n",
    "\n",
    "counter =0\n",
    "for i in range(len(data_pos)):\n",
    "    for char in data_pos[i][0]:\n",
    "        if char =='U':\n",
    "            counter = counter +1\n",
    "            \n",
    "print(f'number of U pos:{counter}')\n"
   ]
  },
  {
   "cell_type": "code",
   "execution_count": 6,
   "id": "66e33d96",
   "metadata": {},
   "outputs": [
    {
     "name": "stdout",
     "output_type": "stream",
     "text": [
      "number of A neg:13432\n",
      "number of G neg:19883\n",
      "number of C neg:19604\n",
      "number of U neg:13125\n"
     ]
    }
   ],
   "source": [
    "\n",
    "counter =0\n",
    "for i in range(len(data_pos)):\n",
    "    for char in data_neg[i][0]:\n",
    "        if char =='A':\n",
    "            counter = counter +1\n",
    "            \n",
    "print(f'number of A neg:{counter}')\n",
    "\n",
    "\n",
    "counter =0\n",
    "for i in range(len(data_pos)):\n",
    "    for char in data_neg[i][0]:\n",
    "        if char =='G':\n",
    "            counter = counter +1\n",
    "            \n",
    "print(f'number of G neg:{counter}')\n",
    "\n",
    "counter =0\n",
    "for i in range(len(data_pos)):\n",
    "    for char in data_neg[i][0]:\n",
    "        if char =='C':\n",
    "            counter = counter +1\n",
    "            \n",
    "print(f'number of C neg:{counter}')\n",
    "\n",
    "\n",
    "counter =0\n",
    "for i in range(len(data_pos)):\n",
    "    for char in data_neg[i][0]:\n",
    "        if char =='U':\n",
    "            counter = counter +1\n",
    "            \n",
    "print(f'number of U neg:{counter}')"
   ]
  },
  {
   "cell_type": "code",
   "execution_count": 16,
   "id": "b4ffbb2c",
   "metadata": {},
   "outputs": [
    {
     "data": {
      "text/plain": [
       "'GCCGAAUCCCCGCCGCGCGUCGCGGCGUGGGAAAUGUGGCG'"
      ]
     },
     "execution_count": 16,
     "metadata": {},
     "output_type": "execute_result"
    }
   ],
   "source": [
    "len(data_neg[0][0][0:41])\n",
    "data_neg[2][0][0:41]"
   ]
  },
  {
   "cell_type": "code",
   "execution_count": 23,
   "id": "b388faee",
   "metadata": {},
   "outputs": [],
   "source": [
    "data_mat_neg = []\n",
    "for i in range (35):\n",
    "    data_one_mat=[]\n",
    "    for j in range(len(data_neg)):\n",
    "        data_single_neg = data_neg[j][0][i:41+i]\n",
    "        data_one_mat.append(data_single_neg)\n",
    "    data_mat_neg.append(data_one_mat)\n",
    "    \n",
    "    \n",
    "data_mat_pos = []\n",
    "for i in range (35):\n",
    "    data_one_mat=[]\n",
    "    for j in range(len(data_pos)):\n",
    "        data_single_pos = data_pos[j][0][i:41+i]\n",
    "        data_one_mat.append(data_single_pos)\n",
    "    data_mat_pos.append(data_one_mat)"
   ]
  },
  {
   "cell_type": "code",
   "execution_count": 20,
   "id": "b205590f",
   "metadata": {},
   "outputs": [
    {
     "data": {
      "text/plain": [
       "35"
      ]
     },
     "execution_count": 20,
     "metadata": {},
     "output_type": "execute_result"
    }
   ],
   "source": [
    "len(data_mat_neg) # we'got 35 data collection "
   ]
  },
  {
   "cell_type": "code",
   "execution_count": 25,
   "id": "361e76ce",
   "metadata": {},
   "outputs": [],
   "source": [
    "#we will create 35 data fasta format \n",
    "for j in range(35):\n",
    "    with open('independent_rnaseqs_new_' + str(j) +'.txt', 'w') as f:\n",
    "    # create data testing\n",
    "        for i in range (len(data_mat_neg[0])):\n",
    "            f.write(\">Fragment-\"+str(i)+\"|0|\"+\"training\"+\"\\n\"+ data_mat_neg[j][i]+\"\\n\")\n",
    "        for i in range (len(data_mat_pos[0])):\n",
    "            f.write(\">Fragment-\"+str(i+len(data_mat_neg[0]))+\"|1|\"+\"training\"+\"\\n\"+ data_mat_pos[j][i]+\"\\n\")\n",
    "        f.close"
   ]
  },
  {
   "cell_type": "code",
   "execution_count": 45,
   "id": "d4d063d7",
   "metadata": {},
   "outputs": [],
   "source": [
    "with open('independent_rnaseqs_new.txt', 'w') as f:\n",
    "    # create data testing\n",
    "    \n",
    "    for i in range (len(list_neg_41)):\n",
    "        f.write(\">Fragment-\"+str(i)+\"|0|\"+\"training\"+\"\\n\"+ list_neg_41[i]+\"\\n\")\n",
    "    for i in range (len(list_pos_41)):\n",
    "        f.write(\">Fragment-\"+str(i+len(list_neg_41))+\"|1|\"+\"training\"+\"\\n\"+ list_pos_41[i]+\"\\n\")\n",
    "    f.close"
   ]
  },
  {
   "cell_type": "code",
   "execution_count": null,
   "id": "5ffb9104",
   "metadata": {},
   "outputs": [],
   "source": [
    "runiLearnPlus()"
   ]
  },
  {
   "cell_type": "code",
   "execution_count": null,
   "id": "ccc05c4a",
   "metadata": {},
   "outputs": [],
   "source": []
  }
 ],
 "metadata": {
  "kernelspec": {
   "display_name": "Python 3 (ipykernel)",
   "language": "python",
   "name": "python3"
  },
  "language_info": {
   "codemirror_mode": {
    "name": "ipython",
    "version": 3
   },
   "file_extension": ".py",
   "mimetype": "text/x-python",
   "name": "python",
   "nbconvert_exporter": "python",
   "pygments_lexer": "ipython3",
   "version": "3.8.10"
  }
 },
 "nbformat": 4,
 "nbformat_minor": 5
}
